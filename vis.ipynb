{
 "cells": [
  {
   "cell_type": "code",
   "execution_count": 1,
   "metadata": {},
   "outputs": [],
   "source": [
    "from matplotlib import pyplot as plt\n",
    "import altair as alt\n",
    "import json\n",
    "import pandas as pd\n",
    "import numpy as np"
   ]
  },
  {
   "cell_type": "code",
   "execution_count": 21,
   "metadata": {},
   "outputs": [],
   "source": [
    "with open('unigram_run_old.json', 'r') as f:\n",
    "    unigram_run = json.load(f)"
   ]
  },
  {
   "cell_type": "code",
   "execution_count": 22,
   "metadata": {},
   "outputs": [
    {
     "data": {
      "text/html": [
       "<div>\n",
       "<style scoped>\n",
       "    .dataframe tbody tr th:only-of-type {\n",
       "        vertical-align: middle;\n",
       "    }\n",
       "\n",
       "    .dataframe tbody tr th {\n",
       "        vertical-align: top;\n",
       "    }\n",
       "\n",
       "    .dataframe thead th {\n",
       "        text-align: right;\n",
       "    }\n",
       "</style>\n",
       "<table border=\"1\" class=\"dataframe\">\n",
       "  <thead>\n",
       "    <tr style=\"text-align: right;\">\n",
       "      <th></th>\n",
       "      <th>nt</th>\n",
       "      <th>alpha</th>\n",
       "      <th>kappa</th>\n",
       "      <th>coherence</th>\n",
       "    </tr>\n",
       "  </thead>\n",
       "  <tbody>\n",
       "    <tr>\n",
       "      <th>0</th>\n",
       "      <td>5.0</td>\n",
       "      <td>symmetric</td>\n",
       "      <td>0.5</td>\n",
       "      <td>0.370545</td>\n",
       "    </tr>\n",
       "    <tr>\n",
       "      <th>1</th>\n",
       "      <td>5.0</td>\n",
       "      <td>symmetric</td>\n",
       "      <td>0.6</td>\n",
       "      <td>0.372961</td>\n",
       "    </tr>\n",
       "    <tr>\n",
       "      <th>2</th>\n",
       "      <td>5.0</td>\n",
       "      <td>symmetric</td>\n",
       "      <td>0.7</td>\n",
       "      <td>0.370945</td>\n",
       "    </tr>\n",
       "    <tr>\n",
       "      <th>3</th>\n",
       "      <td>5.0</td>\n",
       "      <td>symmetric</td>\n",
       "      <td>0.8</td>\n",
       "      <td>0.369131</td>\n",
       "    </tr>\n",
       "    <tr>\n",
       "      <th>4</th>\n",
       "      <td>5.0</td>\n",
       "      <td>symmetric</td>\n",
       "      <td>0.9</td>\n",
       "      <td>0.374570</td>\n",
       "    </tr>\n",
       "  </tbody>\n",
       "</table>\n",
       "</div>"
      ],
      "text/plain": [
       "    nt      alpha  kappa  coherence\n",
       "0  5.0  symmetric    0.5   0.370545\n",
       "1  5.0  symmetric    0.6   0.372961\n",
       "2  5.0  symmetric    0.7   0.370945\n",
       "3  5.0  symmetric    0.8   0.369131\n",
       "4  5.0  symmetric    0.9   0.374570"
      ]
     },
     "execution_count": 22,
     "metadata": {},
     "output_type": "execute_result"
    }
   ],
   "source": [
    "data = []\n",
    "for k, v in unigram_run.items():\n",
    "    keys = [x.split('=') for x in k.split(',')]\n",
    "    data.append(\n",
    "        {\n",
    "            **{param: (value) for [param, value] in keys},\n",
    "            'coherence': v\n",
    "        }\n",
    "    )\n",
    "\n",
    "data_df = pd.DataFrame(\n",
    "    data = data\n",
    ")\n",
    "data_df.nt = data_df.nt.astype(float)\n",
    "data_df.kappa = data_df.kappa.astype(float)\n",
    "data_df.coherence = data_df.coherence.astype(float)\n",
    "data_df.head()"
   ]
  },
  {
   "cell_type": "code",
   "execution_count": 23,
   "metadata": {},
   "outputs": [
    {
     "data": {
      "text/html": [
       "\n",
       "<div id=\"altair-viz-f4f22178b72b41ad83d27abb854a0df6\"></div>\n",
       "<script type=\"text/javascript\">\n",
       "  var VEGA_DEBUG = (typeof VEGA_DEBUG == \"undefined\") ? {} : VEGA_DEBUG;\n",
       "  (function(spec, embedOpt){\n",
       "    let outputDiv = document.currentScript.previousElementSibling;\n",
       "    if (outputDiv.id !== \"altair-viz-f4f22178b72b41ad83d27abb854a0df6\") {\n",
       "      outputDiv = document.getElementById(\"altair-viz-f4f22178b72b41ad83d27abb854a0df6\");\n",
       "    }\n",
       "    const paths = {\n",
       "      \"vega\": \"https://cdn.jsdelivr.net/npm//vega@5?noext\",\n",
       "      \"vega-lib\": \"https://cdn.jsdelivr.net/npm//vega-lib?noext\",\n",
       "      \"vega-lite\": \"https://cdn.jsdelivr.net/npm//vega-lite@4.17.0?noext\",\n",
       "      \"vega-embed\": \"https://cdn.jsdelivr.net/npm//vega-embed@6?noext\",\n",
       "    };\n",
       "\n",
       "    function maybeLoadScript(lib, version) {\n",
       "      var key = `${lib.replace(\"-\", \"\")}_version`;\n",
       "      return (VEGA_DEBUG[key] == version) ?\n",
       "        Promise.resolve(paths[lib]) :\n",
       "        new Promise(function(resolve, reject) {\n",
       "          var s = document.createElement('script');\n",
       "          document.getElementsByTagName(\"head\")[0].appendChild(s);\n",
       "          s.async = true;\n",
       "          s.onload = () => {\n",
       "            VEGA_DEBUG[key] = version;\n",
       "            return resolve(paths[lib]);\n",
       "          };\n",
       "          s.onerror = () => reject(`Error loading script: ${paths[lib]}`);\n",
       "          s.src = paths[lib];\n",
       "        });\n",
       "    }\n",
       "\n",
       "    function showError(err) {\n",
       "      outputDiv.innerHTML = `<div class=\"error\" style=\"color:red;\">${err}</div>`;\n",
       "      throw err;\n",
       "    }\n",
       "\n",
       "    function displayChart(vegaEmbed) {\n",
       "      vegaEmbed(outputDiv, spec, embedOpt)\n",
       "        .catch(err => showError(`Javascript Error: ${err.message}<br>This usually means there's a typo in your chart specification. See the javascript console for the full traceback.`));\n",
       "    }\n",
       "\n",
       "    if(typeof define === \"function\" && define.amd) {\n",
       "      requirejs.config({paths});\n",
       "      require([\"vega-embed\"], displayChart, err => showError(`Error loading script: ${err.message}`));\n",
       "    } else {\n",
       "      maybeLoadScript(\"vega\", \"5\")\n",
       "        .then(() => maybeLoadScript(\"vega-lite\", \"4.17.0\"))\n",
       "        .then(() => maybeLoadScript(\"vega-embed\", \"6\"))\n",
       "        .catch(showError)\n",
       "        .then(() => displayChart(vegaEmbed));\n",
       "    }\n",
       "  })({\"config\": {\"view\": {\"continuousWidth\": 400, \"continuousHeight\": 300}}, \"vconcat\": [{\"mark\": \"line\", \"encoding\": {\"color\": {\"field\": \"kappa\", \"type\": \"quantitative\"}, \"x\": {\"field\": \"nt\", \"title\": \"Number of Topics\", \"type\": \"quantitative\"}, \"y\": {\"field\": \"coherence\", \"scale\": {\"domain\": [0.35, 0.5]}, \"title\": \"Coherence Score\", \"type\": \"quantitative\"}}, \"height\": 200, \"title\": \"Effect of Changing LDA Parameters on Unigram Model, symmetric \\u03b1\", \"transform\": [{\"filter\": \"datum.alpha == \\\"symmetric\\\"\"}], \"width\": 300}, {\"mark\": \"line\", \"encoding\": {\"color\": {\"field\": \"kappa\", \"type\": \"quantitative\"}, \"x\": {\"field\": \"nt\", \"title\": \"Number of Topics\", \"type\": \"quantitative\"}, \"y\": {\"field\": \"coherence\", \"scale\": {\"domain\": [0.35, 0.5]}, \"title\": \"Coherence Score\", \"type\": \"quantitative\"}}, \"height\": 200, \"title\": \"Effect of Changing LDA Parameters on Unigram Model, asymmetric \\u03b1\", \"transform\": [{\"filter\": \"datum.alpha == \\\"asymmetric\\\"\"}], \"width\": 300}], \"data\": {\"name\": \"data-de258e67245056db103fd8bc2eb43f34\"}, \"$schema\": \"https://vega.github.io/schema/vega-lite/v4.17.0.json\", \"datasets\": {\"data-de258e67245056db103fd8bc2eb43f34\": [{\"nt\": 5.0, \"alpha\": \"symmetric\", \"kappa\": 0.5, \"coherence\": 0.37054530306169486}, {\"nt\": 5.0, \"alpha\": \"symmetric\", \"kappa\": 0.6, \"coherence\": 0.3729612132287727}, {\"nt\": 5.0, \"alpha\": \"symmetric\", \"kappa\": 0.7, \"coherence\": 0.3709452749709219}, {\"nt\": 5.0, \"alpha\": \"symmetric\", \"kappa\": 0.7999999999999999, \"coherence\": 0.3691313077835132}, {\"nt\": 5.0, \"alpha\": \"symmetric\", \"kappa\": 0.8999999999999999, \"coherence\": 0.3745702789408273}, {\"nt\": 5.0, \"alpha\": \"asymmetric\", \"kappa\": 0.5, \"coherence\": 0.39421612804312456}, {\"nt\": 5.0, \"alpha\": \"asymmetric\", \"kappa\": 0.6, \"coherence\": 0.3712651059220329}, {\"nt\": 5.0, \"alpha\": \"asymmetric\", \"kappa\": 0.7, \"coherence\": 0.3650434564701551}, {\"nt\": 5.0, \"alpha\": \"asymmetric\", \"kappa\": 0.7999999999999999, \"coherence\": 0.35761372036088596}, {\"nt\": 5.0, \"alpha\": \"asymmetric\", \"kappa\": 0.8999999999999999, \"coherence\": 0.36326623422410537}, {\"nt\": 6.0, \"alpha\": \"symmetric\", \"kappa\": 0.5, \"coherence\": 0.36213446919354103}, {\"nt\": 6.0, \"alpha\": \"symmetric\", \"kappa\": 0.6, \"coherence\": 0.3670632616905474}, {\"nt\": 6.0, \"alpha\": \"symmetric\", \"kappa\": 0.7, \"coherence\": 0.3736305100130157}, {\"nt\": 6.0, \"alpha\": \"symmetric\", \"kappa\": 0.7999999999999999, \"coherence\": 0.3734902857848781}, {\"nt\": 6.0, \"alpha\": \"symmetric\", \"kappa\": 0.8999999999999999, \"coherence\": 0.37755568547815505}, {\"nt\": 6.0, \"alpha\": \"asymmetric\", \"kappa\": 0.5, \"coherence\": 0.3897481732251722}, {\"nt\": 6.0, \"alpha\": \"asymmetric\", \"kappa\": 0.6, \"coherence\": 0.3809670360104905}, {\"nt\": 6.0, \"alpha\": \"asymmetric\", \"kappa\": 0.7, \"coherence\": 0.37661384048186997}, {\"nt\": 6.0, \"alpha\": \"asymmetric\", \"kappa\": 0.7999999999999999, \"coherence\": 0.37273265133419753}, {\"nt\": 6.0, \"alpha\": \"asymmetric\", \"kappa\": 0.8999999999999999, \"coherence\": 0.3702885275648689}, {\"nt\": 7.0, \"alpha\": \"symmetric\", \"kappa\": 0.5, \"coherence\": 0.3945306138198803}, {\"nt\": 7.0, \"alpha\": \"symmetric\", \"kappa\": 0.6, \"coherence\": 0.3741115366577197}, {\"nt\": 7.0, \"alpha\": \"symmetric\", \"kappa\": 0.7, \"coherence\": 0.37389495215531604}, {\"nt\": 7.0, \"alpha\": \"symmetric\", \"kappa\": 0.7999999999999999, \"coherence\": 0.3737200532186323}, {\"nt\": 7.0, \"alpha\": \"symmetric\", \"kappa\": 0.8999999999999999, \"coherence\": 0.37829218698630207}, {\"nt\": 7.0, \"alpha\": \"asymmetric\", \"kappa\": 0.5, \"coherence\": 0.38524272264670706}, {\"nt\": 7.0, \"alpha\": \"asymmetric\", \"kappa\": 0.6, \"coherence\": 0.37840907904160587}, {\"nt\": 7.0, \"alpha\": \"asymmetric\", \"kappa\": 0.7, \"coherence\": 0.38162036763029594}, {\"nt\": 7.0, \"alpha\": \"asymmetric\", \"kappa\": 0.7999999999999999, \"coherence\": 0.3726190313595275}, {\"nt\": 7.0, \"alpha\": \"asymmetric\", \"kappa\": 0.8999999999999999, \"coherence\": 0.3767835326566845}, {\"nt\": 8.0, \"alpha\": \"symmetric\", \"kappa\": 0.5, \"coherence\": 0.3725551497161051}, {\"nt\": 8.0, \"alpha\": \"symmetric\", \"kappa\": 0.6, \"coherence\": 0.38271491809199787}, {\"nt\": 8.0, \"alpha\": \"symmetric\", \"kappa\": 0.7, \"coherence\": 0.3772910128709511}, {\"nt\": 8.0, \"alpha\": \"symmetric\", \"kappa\": 0.7999999999999999, \"coherence\": 0.3697996072810289}, {\"nt\": 8.0, \"alpha\": \"symmetric\", \"kappa\": 0.8999999999999999, \"coherence\": 0.3740007332386426}, {\"nt\": 8.0, \"alpha\": \"asymmetric\", \"kappa\": 0.5, \"coherence\": 0.3690309711092229}, {\"nt\": 8.0, \"alpha\": \"asymmetric\", \"kappa\": 0.6, \"coherence\": 0.3624481060141286}, {\"nt\": 8.0, \"alpha\": \"asymmetric\", \"kappa\": 0.7, \"coherence\": 0.37016169969893453}, {\"nt\": 8.0, \"alpha\": \"asymmetric\", \"kappa\": 0.7999999999999999, \"coherence\": 0.34999420156539895}, {\"nt\": 8.0, \"alpha\": \"asymmetric\", \"kappa\": 0.8999999999999999, \"coherence\": 0.36039416607598757}, {\"nt\": 9.0, \"alpha\": \"symmetric\", \"kappa\": 0.5, \"coherence\": 0.38831106725113923}, {\"nt\": 9.0, \"alpha\": \"symmetric\", \"kappa\": 0.6, \"coherence\": 0.36561307724013425}, {\"nt\": 9.0, \"alpha\": \"symmetric\", \"kappa\": 0.7, \"coherence\": 0.3599513626382503}, {\"nt\": 9.0, \"alpha\": \"symmetric\", \"kappa\": 0.7999999999999999, \"coherence\": 0.3579660539086781}, {\"nt\": 9.0, \"alpha\": \"symmetric\", \"kappa\": 0.8999999999999999, \"coherence\": 0.37078555110911515}, {\"nt\": 9.0, \"alpha\": \"asymmetric\", \"kappa\": 0.5, \"coherence\": 0.402715283803427}, {\"nt\": 9.0, \"alpha\": \"asymmetric\", \"kappa\": 0.6, \"coherence\": 0.3855580648281981}, {\"nt\": 9.0, \"alpha\": \"asymmetric\", \"kappa\": 0.7, \"coherence\": 0.37527721506790523}, {\"nt\": 9.0, \"alpha\": \"asymmetric\", \"kappa\": 0.7999999999999999, \"coherence\": 0.3714999652910466}, {\"nt\": 9.0, \"alpha\": \"asymmetric\", \"kappa\": 0.8999999999999999, \"coherence\": 0.3683491926954467}, {\"nt\": 10.0, \"alpha\": \"symmetric\", \"kappa\": 0.5, \"coherence\": 0.3838602867484761}, {\"nt\": 10.0, \"alpha\": \"symmetric\", \"kappa\": 0.6, \"coherence\": 0.3938099543872696}, {\"nt\": 10.0, \"alpha\": \"symmetric\", \"kappa\": 0.7, \"coherence\": 0.39327838522314684}, {\"nt\": 10.0, \"alpha\": \"symmetric\", \"kappa\": 0.7999999999999999, \"coherence\": 0.38884267141047363}, {\"nt\": 10.0, \"alpha\": \"symmetric\", \"kappa\": 0.8999999999999999, \"coherence\": 0.38608900735065405}, {\"nt\": 10.0, \"alpha\": \"asymmetric\", \"kappa\": 0.5, \"coherence\": 0.37897500789383787}, {\"nt\": 10.0, \"alpha\": \"asymmetric\", \"kappa\": 0.6, \"coherence\": 0.3830903727246508}, {\"nt\": 10.0, \"alpha\": \"asymmetric\", \"kappa\": 0.7, \"coherence\": 0.3737056702485326}, {\"nt\": 10.0, \"alpha\": \"asymmetric\", \"kappa\": 0.7999999999999999, \"coherence\": 0.3809238876015625}, {\"nt\": 10.0, \"alpha\": \"asymmetric\", \"kappa\": 0.8999999999999999, \"coherence\": 0.38974581785341783}, {\"nt\": 11.0, \"alpha\": \"symmetric\", \"kappa\": 0.5, \"coherence\": 0.41250344486294527}, {\"nt\": 11.0, \"alpha\": \"symmetric\", \"kappa\": 0.6, \"coherence\": 0.40344196567421536}, {\"nt\": 11.0, \"alpha\": \"symmetric\", \"kappa\": 0.7, \"coherence\": 0.39470369865503446}, {\"nt\": 11.0, \"alpha\": \"symmetric\", \"kappa\": 0.7999999999999999, \"coherence\": 0.3851216071204852}, {\"nt\": 11.0, \"alpha\": \"symmetric\", \"kappa\": 0.8999999999999999, \"coherence\": 0.3859508001584116}, {\"nt\": 11.0, \"alpha\": \"asymmetric\", \"kappa\": 0.5, \"coherence\": 0.3952925642297405}, {\"nt\": 11.0, \"alpha\": \"asymmetric\", \"kappa\": 0.6, \"coherence\": 0.38473849877740096}, {\"nt\": 11.0, \"alpha\": \"asymmetric\", \"kappa\": 0.7, \"coherence\": 0.3818318350797467}, {\"nt\": 11.0, \"alpha\": \"asymmetric\", \"kappa\": 0.7999999999999999, \"coherence\": 0.3820028803428318}, {\"nt\": 11.0, \"alpha\": \"asymmetric\", \"kappa\": 0.8999999999999999, \"coherence\": 0.38382199906355774}, {\"nt\": 12.0, \"alpha\": \"symmetric\", \"kappa\": 0.5, \"coherence\": 0.4040723637118624}, {\"nt\": 12.0, \"alpha\": \"symmetric\", \"kappa\": 0.6, \"coherence\": 0.38331346991299386}, {\"nt\": 12.0, \"alpha\": \"symmetric\", \"kappa\": 0.7, \"coherence\": 0.3857628582317325}, {\"nt\": 12.0, \"alpha\": \"symmetric\", \"kappa\": 0.7999999999999999, \"coherence\": 0.37851307216861896}, {\"nt\": 12.0, \"alpha\": \"symmetric\", \"kappa\": 0.8999999999999999, \"coherence\": 0.37848209861521553}, {\"nt\": 12.0, \"alpha\": \"asymmetric\", \"kappa\": 0.5, \"coherence\": 0.4166774636492098}, {\"nt\": 12.0, \"alpha\": \"asymmetric\", \"kappa\": 0.6, \"coherence\": 0.40508007092966586}, {\"nt\": 12.0, \"alpha\": \"asymmetric\", \"kappa\": 0.7, \"coherence\": 0.38520010417894673}, {\"nt\": 12.0, \"alpha\": \"asymmetric\", \"kappa\": 0.7999999999999999, \"coherence\": 0.38508248731229994}, {\"nt\": 12.0, \"alpha\": \"asymmetric\", \"kappa\": 0.8999999999999999, \"coherence\": 0.382515488985276}, {\"nt\": 13.0, \"alpha\": \"symmetric\", \"kappa\": 0.5, \"coherence\": 0.3820178088078846}, {\"nt\": 13.0, \"alpha\": \"symmetric\", \"kappa\": 0.6, \"coherence\": 0.3813597847128935}, {\"nt\": 13.0, \"alpha\": \"symmetric\", \"kappa\": 0.7, \"coherence\": 0.37627375163784166}, {\"nt\": 13.0, \"alpha\": \"symmetric\", \"kappa\": 0.7999999999999999, \"coherence\": 0.3828145252789684}, {\"nt\": 13.0, \"alpha\": \"symmetric\", \"kappa\": 0.8999999999999999, \"coherence\": 0.37926314992293697}, {\"nt\": 13.0, \"alpha\": \"asymmetric\", \"kappa\": 0.5, \"coherence\": 0.39748463158820785}, {\"nt\": 13.0, \"alpha\": \"asymmetric\", \"kappa\": 0.6, \"coherence\": 0.38675804696179367}, {\"nt\": 13.0, \"alpha\": \"asymmetric\", \"kappa\": 0.7, \"coherence\": 0.3794083534680253}, {\"nt\": 13.0, \"alpha\": \"asymmetric\", \"kappa\": 0.7999999999999999, \"coherence\": 0.37174343503065094}, {\"nt\": 13.0, \"alpha\": \"asymmetric\", \"kappa\": 0.8999999999999999, \"coherence\": 0.3722602026340114}, {\"nt\": 14.0, \"alpha\": \"symmetric\", \"kappa\": 0.5, \"coherence\": 0.3954282958478109}, {\"nt\": 14.0, \"alpha\": \"symmetric\", \"kappa\": 0.6, \"coherence\": 0.38528219919554696}, {\"nt\": 14.0, \"alpha\": \"symmetric\", \"kappa\": 0.7, \"coherence\": 0.37963964409136725}, {\"nt\": 14.0, \"alpha\": \"symmetric\", \"kappa\": 0.7999999999999999, \"coherence\": 0.37040842265887275}, {\"nt\": 14.0, \"alpha\": \"symmetric\", \"kappa\": 0.8999999999999999, \"coherence\": 0.370355377328787}, {\"nt\": 14.0, \"alpha\": \"asymmetric\", \"kappa\": 0.5, \"coherence\": 0.40324614415880256}, {\"nt\": 14.0, \"alpha\": \"asymmetric\", \"kappa\": 0.6, \"coherence\": 0.39104951009671124}, {\"nt\": 14.0, \"alpha\": \"asymmetric\", \"kappa\": 0.7, \"coherence\": 0.38034827852252473}, {\"nt\": 14.0, \"alpha\": \"asymmetric\", \"kappa\": 0.7999999999999999, \"coherence\": 0.3728384129609687}, {\"nt\": 14.0, \"alpha\": \"asymmetric\", \"kappa\": 0.8999999999999999, \"coherence\": 0.3717123496369324}, {\"nt\": 15.0, \"alpha\": \"symmetric\", \"kappa\": 0.5, \"coherence\": 0.386965022166293}, {\"nt\": 15.0, \"alpha\": \"symmetric\", \"kappa\": 0.6, \"coherence\": 0.3670175572905965}, {\"nt\": 15.0, \"alpha\": \"symmetric\", \"kappa\": 0.7, \"coherence\": 0.36625710658859933}, {\"nt\": 15.0, \"alpha\": \"symmetric\", \"kappa\": 0.7999999999999999, \"coherence\": 0.3707606171374043}, {\"nt\": 15.0, \"alpha\": \"symmetric\", \"kappa\": 0.8999999999999999, \"coherence\": 0.37251338335160017}, {\"nt\": 15.0, \"alpha\": \"asymmetric\", \"kappa\": 0.5, \"coherence\": 0.3790139952719019}, {\"nt\": 15.0, \"alpha\": \"asymmetric\", \"kappa\": 0.6, \"coherence\": 0.37034547981311905}, {\"nt\": 15.0, \"alpha\": \"asymmetric\", \"kappa\": 0.7, \"coherence\": 0.35947948727129453}, {\"nt\": 15.0, \"alpha\": \"asymmetric\", \"kappa\": 0.7999999999999999, \"coherence\": 0.36219509013465156}, {\"nt\": 15.0, \"alpha\": \"asymmetric\", \"kappa\": 0.8999999999999999, \"coherence\": 0.36451053863796484}, {\"nt\": 16.0, \"alpha\": \"symmetric\", \"kappa\": 0.5, \"coherence\": 0.37220536739649723}, {\"nt\": 16.0, \"alpha\": \"symmetric\", \"kappa\": 0.6, \"coherence\": 0.36953395580344944}, {\"nt\": 16.0, \"alpha\": \"symmetric\", \"kappa\": 0.7, \"coherence\": 0.3699334120050335}, {\"nt\": 16.0, \"alpha\": \"symmetric\", \"kappa\": 0.7999999999999999, \"coherence\": 0.3723832788285277}, {\"nt\": 16.0, \"alpha\": \"symmetric\", \"kappa\": 0.8999999999999999, \"coherence\": 0.3709678750442019}, {\"nt\": 16.0, \"alpha\": \"asymmetric\", \"kappa\": 0.5, \"coherence\": 0.373575933347028}, {\"nt\": 16.0, \"alpha\": \"asymmetric\", \"kappa\": 0.6, \"coherence\": 0.3681145829205512}, {\"nt\": 16.0, \"alpha\": \"asymmetric\", \"kappa\": 0.7, \"coherence\": 0.3688547943296071}, {\"nt\": 16.0, \"alpha\": \"asymmetric\", \"kappa\": 0.7999999999999999, \"coherence\": 0.36595138088137763}, {\"nt\": 16.0, \"alpha\": \"asymmetric\", \"kappa\": 0.8999999999999999, \"coherence\": 0.36260161463511603}, {\"nt\": 17.0, \"alpha\": \"symmetric\", \"kappa\": 0.5, \"coherence\": 0.37353363582372223}, {\"nt\": 17.0, \"alpha\": \"symmetric\", \"kappa\": 0.6, \"coherence\": 0.3714637160219385}, {\"nt\": 17.0, \"alpha\": \"symmetric\", \"kappa\": 0.7, \"coherence\": 0.372211576622127}, {\"nt\": 17.0, \"alpha\": \"symmetric\", \"kappa\": 0.7999999999999999, \"coherence\": 0.3635259965998952}, {\"nt\": 17.0, \"alpha\": \"symmetric\", \"kappa\": 0.8999999999999999, \"coherence\": 0.36360942195137097}, {\"nt\": 17.0, \"alpha\": \"asymmetric\", \"kappa\": 0.5, \"coherence\": 0.36372623926120246}, {\"nt\": 17.0, \"alpha\": \"asymmetric\", \"kappa\": 0.6, \"coherence\": 0.3699859404504721}, {\"nt\": 17.0, \"alpha\": \"asymmetric\", \"kappa\": 0.7, \"coherence\": 0.36604654569670303}, {\"nt\": 17.0, \"alpha\": \"asymmetric\", \"kappa\": 0.7999999999999999, \"coherence\": 0.3599912339930204}, {\"nt\": 17.0, \"alpha\": \"asymmetric\", \"kappa\": 0.8999999999999999, \"coherence\": 0.36188273761769113}, {\"nt\": 18.0, \"alpha\": \"symmetric\", \"kappa\": 0.5, \"coherence\": 0.42054534915794034}, {\"nt\": 18.0, \"alpha\": \"symmetric\", \"kappa\": 0.6, \"coherence\": 0.39324933020689135}, {\"nt\": 18.0, \"alpha\": \"symmetric\", \"kappa\": 0.7, \"coherence\": 0.38346389546507004}, {\"nt\": 18.0, \"alpha\": \"symmetric\", \"kappa\": 0.7999999999999999, \"coherence\": 0.3751459536397322}, {\"nt\": 18.0, \"alpha\": \"symmetric\", \"kappa\": 0.8999999999999999, \"coherence\": 0.3717225219089811}, {\"nt\": 18.0, \"alpha\": \"asymmetric\", \"kappa\": 0.5, \"coherence\": 0.40022052737617053}, {\"nt\": 18.0, \"alpha\": \"asymmetric\", \"kappa\": 0.6, \"coherence\": 0.3942017009197192}, {\"nt\": 18.0, \"alpha\": \"asymmetric\", \"kappa\": 0.7, \"coherence\": 0.38009666245147744}, {\"nt\": 18.0, \"alpha\": \"asymmetric\", \"kappa\": 0.7999999999999999, \"coherence\": 0.37553688217243586}, {\"nt\": 18.0, \"alpha\": \"asymmetric\", \"kappa\": 0.8999999999999999, \"coherence\": 0.3670369219987782}, {\"nt\": 19.0, \"alpha\": \"symmetric\", \"kappa\": 0.5, \"coherence\": 0.45431413929519165}, {\"nt\": 19.0, \"alpha\": \"symmetric\", \"kappa\": 0.6, \"coherence\": 0.43161002934893244}, {\"nt\": 19.0, \"alpha\": \"symmetric\", \"kappa\": 0.7, \"coherence\": 0.4137612261954252}, {\"nt\": 19.0, \"alpha\": \"symmetric\", \"kappa\": 0.7999999999999999, \"coherence\": 0.3983599248422511}, {\"nt\": 19.0, \"alpha\": \"symmetric\", \"kappa\": 0.8999999999999999, \"coherence\": 0.3903090163649132}, {\"nt\": 19.0, \"alpha\": \"asymmetric\", \"kappa\": 0.5, \"coherence\": 0.43715467109115735}, {\"nt\": 19.0, \"alpha\": \"asymmetric\", \"kappa\": 0.6, \"coherence\": 0.4302936511678186}, {\"nt\": 19.0, \"alpha\": \"asymmetric\", \"kappa\": 0.7, \"coherence\": 0.4232537138391577}, {\"nt\": 19.0, \"alpha\": \"asymmetric\", \"kappa\": 0.7999999999999999, \"coherence\": 0.4140591400114409}, {\"nt\": 19.0, \"alpha\": \"asymmetric\", \"kappa\": 0.8999999999999999, \"coherence\": 0.392927693990446}]}}, {\"mode\": \"vega-lite\"});\n",
       "</script>"
      ],
      "text/plain": [
       "alt.VConcatChart(...)"
      ]
     },
     "execution_count": 23,
     "metadata": {},
     "output_type": "execute_result"
    }
   ],
   "source": [
    "alt.Chart(data_df).mark_line().transform_filter(\n",
    "    'datum.alpha == \"symmetric\"'    \n",
    ").encode(\n",
    "    x = alt.X('nt:Q', title = 'Number of Topics'),\n",
    "    y = alt.Y('coherence:Q', scale=alt.Scale(domain=[0.35, 0.5]), title = 'Coherence Score'),\n",
    "    color = alt.Color('kappa:Q')\n",
    ").properties(\n",
    "    title = 'Effect of Changing LDA Parameters on Unigram Model, symmetric α',\n",
    "    width = 300,\n",
    "    height = 200\n",
    ") & alt.Chart(data_df).mark_line().transform_filter(\n",
    "    'datum.alpha == \"asymmetric\"'    \n",
    ").encode(\n",
    "    x = alt.X('nt:Q', title = 'Number of Topics'),\n",
    "    y = alt.Y('coherence:Q', scale=alt.Scale(domain=[0.35, 0.5]), title = 'Coherence Score'),\n",
    "    color = alt.Color('kappa:Q')\n",
    ").properties(\n",
    "    title = 'Effect of Changing LDA Parameters on Unigram Model, asymmetric α',\n",
    "    width = 300,\n",
    "    height = 200\n",
    ")"
   ]
  },
  {
   "cell_type": "code",
   "execution_count": 24,
   "metadata": {},
   "outputs": [
    {
     "data": {
      "text/html": [
       "\n",
       "<div id=\"altair-viz-d933f1bc1b1c49c0a0a3128614d9bd53\"></div>\n",
       "<script type=\"text/javascript\">\n",
       "  var VEGA_DEBUG = (typeof VEGA_DEBUG == \"undefined\") ? {} : VEGA_DEBUG;\n",
       "  (function(spec, embedOpt){\n",
       "    let outputDiv = document.currentScript.previousElementSibling;\n",
       "    if (outputDiv.id !== \"altair-viz-d933f1bc1b1c49c0a0a3128614d9bd53\") {\n",
       "      outputDiv = document.getElementById(\"altair-viz-d933f1bc1b1c49c0a0a3128614d9bd53\");\n",
       "    }\n",
       "    const paths = {\n",
       "      \"vega\": \"https://cdn.jsdelivr.net/npm//vega@5?noext\",\n",
       "      \"vega-lib\": \"https://cdn.jsdelivr.net/npm//vega-lib?noext\",\n",
       "      \"vega-lite\": \"https://cdn.jsdelivr.net/npm//vega-lite@4.17.0?noext\",\n",
       "      \"vega-embed\": \"https://cdn.jsdelivr.net/npm//vega-embed@6?noext\",\n",
       "    };\n",
       "\n",
       "    function maybeLoadScript(lib, version) {\n",
       "      var key = `${lib.replace(\"-\", \"\")}_version`;\n",
       "      return (VEGA_DEBUG[key] == version) ?\n",
       "        Promise.resolve(paths[lib]) :\n",
       "        new Promise(function(resolve, reject) {\n",
       "          var s = document.createElement('script');\n",
       "          document.getElementsByTagName(\"head\")[0].appendChild(s);\n",
       "          s.async = true;\n",
       "          s.onload = () => {\n",
       "            VEGA_DEBUG[key] = version;\n",
       "            return resolve(paths[lib]);\n",
       "          };\n",
       "          s.onerror = () => reject(`Error loading script: ${paths[lib]}`);\n",
       "          s.src = paths[lib];\n",
       "        });\n",
       "    }\n",
       "\n",
       "    function showError(err) {\n",
       "      outputDiv.innerHTML = `<div class=\"error\" style=\"color:red;\">${err}</div>`;\n",
       "      throw err;\n",
       "    }\n",
       "\n",
       "    function displayChart(vegaEmbed) {\n",
       "      vegaEmbed(outputDiv, spec, embedOpt)\n",
       "        .catch(err => showError(`Javascript Error: ${err.message}<br>This usually means there's a typo in your chart specification. See the javascript console for the full traceback.`));\n",
       "    }\n",
       "\n",
       "    if(typeof define === \"function\" && define.amd) {\n",
       "      requirejs.config({paths});\n",
       "      require([\"vega-embed\"], displayChart, err => showError(`Error loading script: ${err.message}`));\n",
       "    } else {\n",
       "      maybeLoadScript(\"vega\", \"5\")\n",
       "        .then(() => maybeLoadScript(\"vega-lite\", \"4.17.0\"))\n",
       "        .then(() => maybeLoadScript(\"vega-embed\", \"6\"))\n",
       "        .catch(showError)\n",
       "        .then(() => displayChart(vegaEmbed));\n",
       "    }\n",
       "  })({\"config\": {\"view\": {\"continuousWidth\": 400, \"continuousHeight\": 300}}, \"vconcat\": [{\"data\": {\"name\": \"data-080bc3cf2ea0164ada35a0aa34579546\"}, \"mark\": \"line\", \"encoding\": {\"x\": {\"field\": \"nt\", \"title\": \"Number of Topics\", \"type\": \"quantitative\"}, \"y\": {\"field\": \"coherence\", \"scale\": {\"domain\": [0.35, 0.5]}, \"title\": \"Coherence Score\", \"type\": \"quantitative\"}}, \"height\": 200, \"title\": \"Effect of Changing Number of Topics on Bigram Model\", \"width\": 300}, {\"data\": {\"name\": \"data-fa03a8ac01418d33498eb54507a3161d\"}, \"mark\": \"line\", \"encoding\": {\"x\": {\"field\": \"nt\", \"title\": \"Number of Topics\", \"type\": \"quantitative\"}, \"y\": {\"field\": \"coherence\", \"scale\": {\"domain\": [0.35, 0.5]}, \"title\": \"Coherence Score\", \"type\": \"quantitative\"}}, \"height\": 200, \"title\": \"Effect of Changing LDA Parameters on Trigram Model\", \"width\": 300}], \"$schema\": \"https://vega.github.io/schema/vega-lite/v4.17.0.json\", \"datasets\": {\"data-080bc3cf2ea0164ada35a0aa34579546\": [{\"nt\": 5, \"coherence\": 0.39421612804312456}, {\"nt\": 6, \"coherence\": 0.3897481732251722}, {\"nt\": 7, \"coherence\": 0.38524272264670706}, {\"nt\": 8, \"coherence\": 0.3690309711092229}, {\"nt\": 9, \"coherence\": 0.402715283803427}, {\"nt\": 10, \"coherence\": 0.37897500789383787}, {\"nt\": 11, \"coherence\": 0.3952925642297405}, {\"nt\": 12, \"coherence\": 0.4166774636492098}, {\"nt\": 13, \"coherence\": 0.39748463158820785}, {\"nt\": 14, \"coherence\": 0.40324614415880256}, {\"nt\": 15, \"coherence\": 0.38168255515297034}, {\"nt\": 16, \"coherence\": 0.37357593334702804}, {\"nt\": 17, \"coherence\": 0.36372623926120246}, {\"nt\": 18, \"coherence\": 0.40022052737617053}, {\"nt\": 19, \"coherence\": 0.43715467109115735}], \"data-fa03a8ac01418d33498eb54507a3161d\": [{\"nt\": 5, \"coherence\": 0.38519209199737164}, {\"nt\": 6, \"coherence\": 0.376376842019617}, {\"nt\": 7, \"coherence\": 0.37582112511540483}, {\"nt\": 8, \"coherence\": 0.37520845980596584}, {\"nt\": 9, \"coherence\": 0.38615538769348434}, {\"nt\": 10, \"coherence\": 0.3761450965597489}, {\"nt\": 11, \"coherence\": 0.3826323261473055}, {\"nt\": 12, \"coherence\": 0.3840672186377148}, {\"nt\": 13, \"coherence\": 0.3914412415547333}, {\"nt\": 14, \"coherence\": 0.40831670714187285}, {\"nt\": 15, \"coherence\": 0.4139854764407604}, {\"nt\": 16, \"coherence\": 0.42047768340090375}, {\"nt\": 17, \"coherence\": 0.4166178658454499}, {\"nt\": 18, \"coherence\": 0.406187746061373}, {\"nt\": 19, \"coherence\": 0.4039011552910606}]}}, {\"mode\": \"vega-lite\"});\n",
       "</script>"
      ],
      "text/plain": [
       "alt.VConcatChart(...)"
      ]
     },
     "execution_count": 24,
     "metadata": {},
     "output_type": "execute_result"
    }
   ],
   "source": [
    "with open('bigram_run_old.json', 'r') as f:\n",
    "    bigram_run = json.load(f)\n",
    "\n",
    "bigram_run = [{'nt': nt, 'coherence': c} for c, nt in zip(bigram_run, range(5, 20))]\n",
    "bigram_data_df = pd.DataFrame(bigram_run)\n",
    "\n",
    "with open('trigram_run_old.json', 'r') as f:\n",
    "    trigram_run = json.load(f)\n",
    "  \n",
    "trigram_run = [{'nt': nt, 'coherence': c} for c, nt in zip(trigram_run, range(5, 20))]\n",
    "trigram_data_df = pd.DataFrame(trigram_run)\n",
    "\n",
    "alt.Chart(bigram_data_df).mark_line().encode(\n",
    "    x = alt.X('nt:Q', title = 'Number of Topics'),\n",
    "    y = alt.Y('coherence:Q', scale=alt.Scale(domain=[0.35, 0.5]), title = 'Coherence Score')\n",
    ").properties(\n",
    "    title = 'Effect of Changing Number of Topics on Bigram Model',\n",
    "    width = 300,\n",
    "    height = 200\n",
    ") & alt.Chart(trigram_data_df).mark_line().encode(\n",
    "    x = alt.X('nt:Q', title = 'Number of Topics'),\n",
    "    y = alt.Y('coherence:Q', scale=alt.Scale(domain=[0.35, 0.5]), title = 'Coherence Score')\n",
    ").properties(\n",
    "    title = 'Effect of Changing LDA Parameters on Trigram Model',\n",
    "    width = 300,\n",
    "    height = 200\n",
    ")"
   ]
  },
  {
   "cell_type": "code",
   "execution_count": 7,
   "metadata": {},
   "outputs": [
    {
     "data": {
      "text/plain": [
       "[{'nt': 5, 'coherence': 0.36048068276801953},\n",
       " {'nt': 6, 'coherence': 0.3719155449523453},\n",
       " {'nt': 7, 'coherence': 0.3599703633246003},\n",
       " {'nt': 8, 'coherence': 0.39468067649661304},\n",
       " {'nt': 9, 'coherence': 0.3752590250687933},\n",
       " {'nt': 10, 'coherence': 0.3958658063359558},\n",
       " {'nt': 11, 'coherence': 0.371080099763133},\n",
       " {'nt': 12, 'coherence': 0.38516207600955066},\n",
       " {'nt': 13, 'coherence': 0.4071249980910859},\n",
       " {'nt': 14, 'coherence': 0.3686297705338467},\n",
       " {'nt': 15, 'coherence': 0.3732560958994787},\n",
       " {'nt': 16, 'coherence': 0.3991396219545381},\n",
       " {'nt': 17, 'coherence': 0.3787352301592695},\n",
       " {'nt': 18, 'coherence': 0.3967518418321109},\n",
       " {'nt': 19, 'coherence': 0.42668775080715343}]"
      ]
     },
     "execution_count": 7,
     "metadata": {},
     "output_type": "execute_result"
    }
   ],
   "source": [
    "bigram_run"
   ]
  },
  {
   "cell_type": "code",
   "execution_count": 1,
   "metadata": {},
   "outputs": [
    {
     "name": "stderr",
     "output_type": "stream",
     "text": [
      "magi_dataclasses - INFO - Loaded 5000 repos to D:\\OneDrive - Umich\\UMSI\\2022 Fall\\SI671\\MAGI_dm\\src\\ghv9-3.json\n",
      "magi_dataclasses - INFO - Graph nodes attribute betweenness_centrality calculated using <function betweenness_centrality at 0x00000203384289D8>\n",
      "magi_dataclasses - INFO - Graph nodes attribute out_degree calculated using <function GitHubDataset._init_artifacts.<locals>.<lambda> at 0x000002030F2972F0>\n",
      "magi_dataclasses - INFO - Graph nodes attribute in_degree calculated using <function GitHubDataset._init_artifacts.<locals>.<lambda> at 0x000002033E8DC6A8>\n",
      "magi_dataclasses - INFO - Graph nodes attribute page_rank_0.90 calculated using functools.partial(<function pagerank at 0x00000203384C98C8>, alpha=0.9)\n",
      "magi_dataclasses - INFO - Graph nodes attribute page_rank_0.50 calculated using functools.partial(<function pagerank at 0x00000203384C98C8>, alpha=0.5)\n",
      "magi_dataclasses - INFO - Graph nodes attribute hits calculated using <function GitHubDataset._init_artifacts.<locals>.<lambda> at 0x000002033E8DC620>\n",
      "magi_dataclasses - INFO - Graph built successfully.\n"
     ]
    }
   ],
   "source": [
    "from wordcloud import WordCloud\n",
    "from magi_dataclasses import *\n",
    "\n",
    "\n",
    "github_dataset = GitHubDataset(\n",
    "    empty = False,\n",
    "    file_path = './ghv9-3.json',\n",
    "    load_nlp = True,\n",
    "    load_graph = True,\n",
    ")"
   ]
  },
  {
   "cell_type": "code",
   "execution_count": 9,
   "metadata": {},
   "outputs": [
    {
     "data": {
      "text/plain": [
       "<wordcloud.wordcloud.WordCloud at 0x2034d931320>"
      ]
     },
     "execution_count": 9,
     "metadata": {},
     "output_type": "execute_result"
    }
   ],
   "source": [
    "wordcloud = WordCloud(max_font_size = 80, background_color = \"white\", max_words = 2000, width = 640, height = 360,).generate(github_dataset['vinta/awesome-python'].readme)\n",
    "wordcloud.to_file('wordcloud.png')"
   ]
  }
 ],
 "metadata": {
  "kernelspec": {
   "display_name": "Python 3.7.2 ('magi')",
   "language": "python",
   "name": "python3"
  },
  "language_info": {
   "codemirror_mode": {
    "name": "ipython",
    "version": 3
   },
   "file_extension": ".py",
   "mimetype": "text/x-python",
   "name": "python",
   "nbconvert_exporter": "python",
   "pygments_lexer": "ipython3",
   "version": "3.7.2"
  },
  "orig_nbformat": 4,
  "vscode": {
   "interpreter": {
    "hash": "ba0755866a87cecb8275fb26ba2664b744f4b1fd20d0537717179e05d7679229"
   }
  }
 },
 "nbformat": 4,
 "nbformat_minor": 2
}
